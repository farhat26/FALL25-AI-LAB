{
 "cells": [
  {
   "cell_type": "code",
   "execution_count": 1,
   "id": "3325fdfb",
   "metadata": {},
   "outputs": [
    {
     "name": "stdout",
     "output_type": "stream",
     "text": [
      "Leaf nodes: [3, 5, 2, 9]\n",
      "Best value for MAX player: 3\n"
     ]
    }
   ],
   "source": [
    "\n",
    "import math\n",
    "\n",
    "def find_best_score(level, pos, maximizer, leaf_values, depth_limit):\n",
    "    # Agar leaf node tak pohonch gaye\n",
    "    if level == depth_limit:\n",
    "        return leaf_values[pos]\n",
    "    \n",
    "    # MAX player ki turn\n",
    "    if maximizer:\n",
    "        option1 = find_best_score(level + 1, pos * 2,     False, leaf_values, depth_limit)\n",
    "        option2 = find_best_score(level + 1, pos * 2 + 1, False, leaf_values, depth_limit)\n",
    "        return max(option1, option2)\n",
    "    \n",
    "    # MIN player ki turn\n",
    "    else:\n",
    "        option1 = find_best_score(level + 1, pos * 2,     True, leaf_values, depth_limit)\n",
    "        option2 = find_best_score(level + 1, pos * 2 + 1, True, leaf_values, depth_limit)\n",
    "        return min(option1, option2)\n",
    "\n",
    "\n",
    "\n",
    "data = [3, 5, 2, 9]                        \n",
    "total_levels = int(math.log(len(data), 2)) \n",
    "\n",
    "print(\"Leaf nodes:\", data)\n",
    "result = find_best_score(0, 0, True, data, total_levels)\n",
    "print(\"Best value for MAX player:\", result)"
   ]
  }
 ],
 "metadata": {
  "kernelspec": {
   "display_name": "Python 3",
   "language": "python",
   "name": "python3"
  },
  "language_info": {
   "codemirror_mode": {
    "name": "ipython",
    "version": 3
   },
   "file_extension": ".py",
   "mimetype": "text/x-python",
   "name": "python",
   "nbconvert_exporter": "python",
   "pygments_lexer": "ipython3",
   "version": "3.11.9"
  }
 },
 "nbformat": 4,
 "nbformat_minor": 5
}
