{
 "cells": [
  {
   "cell_type": "code",
   "execution_count": 11,
   "metadata": {},
   "outputs": [
    {
     "name": "stdout",
     "output_type": "stream",
     "text": [
      "HelloHowareyouPython32025\n"
     ]
    }
   ],
   "source": [
    "text = \"Hello! How are you? #Python3 @2025\"\n",
    "\n",
    "clean_text = \"\"\n",
    "for char in text:\n",
    "    if char.isalnum() :\n",
    "        clean_text += char\n",
    "\n",
    "print(clean_text)\n"
   ]
  },
  {
   "cell_type": "code",
   "execution_count": 14,
   "metadata": {},
   "outputs": [
    {
     "name": "stdout",
     "output_type": "stream",
     "text": [
      "   aaaefhimmnrsty\n",
      "Words sorted: farhat is my name\n"
     ]
    }
   ],
   "source": [
    "text = \"my name is farhat\"\n",
    "\n",
    "letter_list = list(text)\n",
    "\n",
    "for i in range(len(letter_list)):\n",
    "    for j in range(i + 1, len(letter_list)):\n",
    "        first = letter_list[i]\n",
    "        second = letter_list[j]\n",
    "        if first > second:\n",
    "            letter_list[i], letter_list[j] = letter_list[j], letter_list[i]\n",
    "\n",
    "\n",
    "sorted_letters = \"\".join(letter_list)\n",
    "print(sorted_letters)\n",
    "words = text.split()  \n",
    "\n",
    "for i in range(len(words)):\n",
    "    for j in range(i + 1, len(words)):\n",
    "        if words[i] > words[j]: \n",
    "            words[i], words[j] = words[j], words[i]\n",
    "\n",
    "sorted_words = \" \".join(words)\n",
    "print(\"Words sorted:\", sorted_words)\n"
   ]
  },
  {
   "cell_type": "code",
   "execution_count": 10,
   "metadata": {},
   "outputs": [
    {
     "name": "stdout",
     "output_type": "stream",
     "text": [
      "digit [5, 8, 9, 3, 8, 0, 4, 1, 1, 5, 4, 5, 7, 2, 8, 9]\n",
      "last value 9\n",
      "reverse [8, 2, 7, 5, 4, 5, 1, 1, 4, 0, 8, 3, 9, 8, 5]\n",
      "88\n",
      "The card number is INVALID.\n"
     ]
    }
   ],
   "source": [
    "card_number = \"5893804115457289\"\n",
    "\n",
    "\n",
    "digits = []\n",
    "for d in card_number:\n",
    "    digits.append(int(d))\n",
    "print(\"digit\",digits)\n",
    "check_digit = digits[-1]\n",
    "print(\"last value\",check_digit)\n",
    "reversed_digits = digits[:-1][::-1]\n",
    "print(\"reverse\",reversed_digits)\n",
    "\n",
    "\n",
    "for i in range(len(reversed)):\n",
    "    if i % 2 == 0:\n",
    "        reversed[i] = reversed[i] * 2\n",
    "        if reversed[i] > 9:\n",
    "            reversed[i] -= 9\n",
    "\n",
    "total = check_digit\n",
    "for d in reversed:\n",
    "    total += d\n",
    "print(total)\n",
    "\n",
    "if total % 10 == 0:\n",
    "    print(\"The card number is VALID.\")\n",
    "else:\n",
    "    print(\"The card number is INVALID.\")\n"
   ]
  }
 ],
 "metadata": {
  "kernelspec": {
   "display_name": "Python 3",
   "language": "python",
   "name": "python3"
  },
  "language_info": {
   "codemirror_mode": {
    "name": "ipython",
    "version": 3
   },
   "file_extension": ".py",
   "mimetype": "text/x-python",
   "name": "python",
   "nbconvert_exporter": "python",
   "pygments_lexer": "ipython3",
   "version": "3.13.0"
  }
 },
 "nbformat": 4,
 "nbformat_minor": 2
}
