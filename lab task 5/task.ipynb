{
 "cells": [
  {
   "cell_type": "code",
   "execution_count": 1,
   "metadata": {},
   "outputs": [
    {
     "name": "stdout",
     "output_type": "stream",
     "text": [
      "Found\n",
      "Visited order: ['a', 'b', 'd']\n"
     ]
    }
   ],
   "source": [
    "graph = {\n",
    "    \"a\": [\"b\", \"c\"],\n",
    "    \"b\": [\"d\", \"e\"],\n",
    "    \"c\": [\"f\"],\n",
    "    \"d\": [],\n",
    "    \"e\": [],\n",
    "    \"f\": [\"g\"],\n",
    "    \"g\": []\n",
    "}\n",
    "\n",
    "start = \"a\"\n",
    "goal = \"d\"\n",
    "visited = []\n",
    "\n",
    "def dfs_search(start, goal):\n",
    "    stack = [start]   \n",
    "\n",
    "    while stack:\n",
    "        node = stack.pop()\n",
    "        if node not in visited:\n",
    "            visited.append(node)\n",
    "\n",
    "            if node == goal:\n",
    "                print(\"Found\")\n",
    "                return\n",
    "\n",
    "          \n",
    "            stack.extend(graph[node][::-1])\n",
    "\n",
    "dfs_search(start, goal)\n",
    "print(\"Visited order:\", visited)\n"
   ]
  }
 ],
 "metadata": {
  "kernelspec": {
   "display_name": "Python 3",
   "language": "python",
   "name": "python3"
  },
  "language_info": {
   "codemirror_mode": {
    "name": "ipython",
    "version": 3
   },
   "file_extension": ".py",
   "mimetype": "text/x-python",
   "name": "python",
   "nbconvert_exporter": "python",
   "pygments_lexer": "ipython3",
   "version": "3.13.0"
  }
 },
 "nbformat": 4,
 "nbformat_minor": 2
}
