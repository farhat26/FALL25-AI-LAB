{
 "cells": [
  {
   "cell_type": "code",
   "execution_count": 2,
   "id": "3b96341e",
   "metadata": {},
   "outputs": [
    {
     "name": "stdout",
     "output_type": "stream",
     "text": [
      "Result: 4\n"
     ]
    }
   ],
   "source": [
    "def calculate_expression(expr):\n",
    "   \n",
    "    expr = expr.replace('×', '*').replace('÷', '/')\n",
    "    \n",
    "    \n",
    "    if not expr.strip() or not any(char.isdigit() or char in '+-*/().' for char in expr):\n",
    "        return \"Invalid input! Use numbers and operations like + - * / ( )\"\n",
    "    \n",
    "    try:\n",
    "        \n",
    "        result = eval(expr)\n",
    "        \n",
    "      \n",
    "        if isinstance(result, float):\n",
    "            result = round(result, 2)\n",
    "        \n",
    "        return f\"Result: {result}\"\n",
    "    \n",
    "    except Exception as e:\n",
    "        \n",
    "        return f\"Error in expression: {str(e)}\"\n",
    "\n",
    "\n",
    "user_input = input(\"Enter your math expression (e.g., 1+2*3*(4-5/4)-(3/5)): \")\n",
    "\n",
    "print(calculate_expression(user_input))"
   ]
  }
 ],
 "metadata": {
  "kernelspec": {
   "display_name": "Python 3",
   "language": "python",
   "name": "python3"
  },
  "language_info": {
   "codemirror_mode": {
    "name": "ipython",
    "version": 3
   },
   "file_extension": ".py",
   "mimetype": "text/x-python",
   "name": "python",
   "nbconvert_exporter": "python",
   "pygments_lexer": "ipython3",
   "version": "3.11.9"
  }
 },
 "nbformat": 4,
 "nbformat_minor": 5
}
