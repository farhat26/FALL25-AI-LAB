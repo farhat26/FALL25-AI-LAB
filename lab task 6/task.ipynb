{
 "cells": [
  {
   "cell_type": "code",
   "execution_count": 1,
   "metadata": {},
   "outputs": [
    {
     "name": "stdout",
     "output_type": "stream",
     "text": [
      "Found\n",
      "Visited order: ['A', 'B', 'C', 'D', 'E', 'F', 'G']\n"
     ]
    }
   ],
   "source": [
    "class BFS:\n",
    "    def __init__(self, graph):\n",
    "        self.graph = graph\n",
    "        self.visited = []\n",
    "\n",
    "    def search(self, start, goal):\n",
    "        level = [start]\n",
    "\n",
    "        while level:\n",
    "            next_level = []\n",
    "            for node in level:\n",
    "                if node not in self.visited:\n",
    "                    self.visited.append(node)\n",
    "\n",
    "                    if node == goal:\n",
    "                        print(\"Found\")\n",
    "                        return\n",
    "\n",
    "                    next_level.extend(self.graph[node])\n",
    "\n",
    "            level = next_level\n",
    "\n",
    "        print(\"Not Found\")\n",
    "\n",
    "    def get_visited(self):\n",
    "        return self.visited\n",
    "\n",
    "\n",
    "graph = {\n",
    "    \"A\": [\"B\", \"C\"],\n",
    "    \"B\": [\"D\", \"E\"],\n",
    "    \"C\": [\"F\"],\n",
    "    \"D\": [],\n",
    "    \"E\": [],\n",
    "    \"F\": [\"G\"],\n",
    "    \"G\": []\n",
    "}\n",
    "\n",
    "bfs = BFS(graph)\n",
    "bfs.search(\"A\", \"G\")\n",
    "print(\"Visited order:\", bfs.get_visited())\n"
   ]
  },
  {
   "cell_type": "code",
   "execution_count": 2,
   "metadata": {},
   "outputs": [
    {
     "name": "stdout",
     "output_type": "stream",
     "text": [
      "Target Found\n",
      "Traversal sequence: ['A', 'B', 'C', 'D', 'E', 'F', 'G']\n"
     ]
    }
   ],
   "source": [
    "class BreadthFirstSearch:\n",
    "    def __init__(self, graph):\n",
    "        self.graph = graph\n",
    "        self.traversed = []\n",
    "\n",
    "    def run(self, start, goal):\n",
    "        q = [start]  # use list as a queue\n",
    "\n",
    "        while q:\n",
    "            current = q.pop(0)  # dequeue\n",
    "\n",
    "            if current not in self.traversed:\n",
    "                self.traversed.append(current)\n",
    "\n",
    "                if current == goal:\n",
    "                    print(\"Target Found\")\n",
    "                    return\n",
    "\n",
    "            \n",
    "                q.extend(self.graph[current])\n",
    "\n",
    "        print(\"Target Not Found\")\n",
    "\n",
    "    def get_traversed(self):\n",
    "        return self.traversed\n",
    "\n",
    "\n",
    "graph_data = {\n",
    "    \"A\": [\"B\", \"C\"],\n",
    "    \"B\": [\"D\", \"E\"],\n",
    "    \"C\": [\"F\"],\n",
    "    \"D\": [],\n",
    "    \"E\": [],\n",
    "    \"F\": [\"G\"],\n",
    "    \"G\": []\n",
    "}\n",
    "\n",
    "bfs = BreadthFirstSearch(graph_data)\n",
    "bfs.run(\"A\", \"G\")\n",
    "print(\"Traversal sequence:\", bfs.get_traversed())\n"
   ]
  }
 ],
 "metadata": {
  "kernelspec": {
   "display_name": "Python 3",
   "language": "python",
   "name": "python3"
  },
  "language_info": {
   "codemirror_mode": {
    "name": "ipython",
    "version": 3
   },
   "file_extension": ".py",
   "mimetype": "text/x-python",
   "name": "python",
   "nbconvert_exporter": "python",
   "pygments_lexer": "ipython3",
   "version": "3.13.0"
  }
 },
 "nbformat": 4,
 "nbformat_minor": 2
}
