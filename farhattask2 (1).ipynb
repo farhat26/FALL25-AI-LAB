{
 "cells": [
  {
   "cell_type": "code",
   "execution_count": 1,
   "id": "92aab4a4",
   "metadata": {},
   "outputs": [
    {
     "name": "stdout",
     "output_type": "stream",
     "text": [
      "Kitchen : 34 => Temperature MATCHED with agent\n"
     ]
    }
   ],
   "source": [
    "import csv\n",
    "import os\n",
    "\n",
    "# Create a sample CSV file if it does not exist\n",
    "if not os.path.exists(\"rooms_temps.csv\"):\n",
    "    with open(\"rooms_temps.csv\", \"w\", newline=\"\") as file:\n",
    "        writer = csv.writer(file)\n",
    "        writer.writerow([\"Room\", \"Temperature\"])\n",
    "        writer.writerow([\"Living Room\", 32])\n",
    "        writer.writerow([\"Bedroom\", 34])\n",
    "        writer.writerow([\"Kitchen\", 36])\n",
    "\n",
    "class SimpleReflexAgent:\n",
    "    def __init__(self, temp):\n",
    "        self.fixed_temp = temp\n",
    "\n",
    "    def sensor(self, temp):\n",
    "        self.current_temp = temp\n",
    "\n",
    "    def performance(self):\n",
    "        if self.current_temp > self.fixed_temp:\n",
    "            return \"AC was ON\"\n",
    "        else:\n",
    "            return \"AC was OFF\"\n",
    "\n",
    "    def actuator(self):\n",
    "        action = self.performance()\n",
    "        print(f\"{self.current_temp} => Action: {action}\")\n",
    "\n",
    "    def check_match(self):\n",
    "        return self.current_temp == self.fixed_temp\n",
    "\n",
    "\n",
    "agent = SimpleReflexAgent(34)\n",
    "\n",
    "with open(\"rooms_temps.csv\", \"r\") as file:\n",
    "    reader = csv.reader(file)\n",
    "    next(reader)  \n",
    "\n",
    "    for row in reader:\n",
    "        room = row[0]\n",
    "        temp = int(row[1])\n",
    "        agent.sensor(temp)\n",
    "        if agent.check_match(): \n",
    "            print(f\"{room} : {temp} => Temperature MATCHED with agent\")\n"
   ]
  }
 ],
 "metadata": {
  "kernelspec": {
   "display_name": "base",
   "language": "python",
   "name": "python3"
  },
  "language_info": {
   "codemirror_mode": {
    "name": "ipython",
    "version": 3
   },
   "file_extension": ".py",
   "mimetype": "text/x-python",
   "name": "python",
   "nbconvert_exporter": "python",
   "pygments_lexer": "ipython3",
   "version": "3.12.7"
  }
 },
 "nbformat": 4,
 "nbformat_minor": 5
}
