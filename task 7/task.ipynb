{
 "cells": [
  {
   "cell_type": "code",
   "execution_count": 1,
   "metadata": {},
   "outputs": [
    {
     "name": "stdout",
     "output_type": "stream",
     "text": [
      "Path found: ['A', 'B', 'D']\n",
      "Total cost: 6\n"
     ]
    },
    {
     "data": {
      "text/plain": [
       "['A', 'B', 'D']"
      ]
     },
     "execution_count": 1,
     "metadata": {},
     "output_type": "execute_result"
    }
   ],
   "source": [
    "class Graph:\n",
    "    def __init__(self, adjacency_list):\n",
    "        self.adjacency_list = adjacency_list\n",
    "\n",
    "    def get_neighbors(self, v):\n",
    "        return self.adjacency_list.get(v, [])\n",
    "\n",
    "    def h(self, n):\n",
    "        H = {\n",
    "            'A': 1,\n",
    "            'B': 1,\n",
    "            'C': 1,\n",
    "            'D': 1\n",
    "        }\n",
    "        return H.get(n, 0)\n",
    "\n",
    "    def a_star_algorithm(self, start_node, stop_node):\n",
    "        if start_node not in self.adjacency_list:\n",
    "            print(\"Invalid start node!\")\n",
    "            return None\n",
    "\n",
    "        open_list = set([start_node])\n",
    "        closed_list = set([])\n",
    "\n",
    "        g = {start_node: 0}\n",
    "        parents = {start_node: start_node}\n",
    "\n",
    "        while open_list:\n",
    "            n = min(open_list, key=lambda x: g[x] + self.h(x))\n",
    "\n",
    "            if n == stop_node:\n",
    "                path = []\n",
    "                while parents[n] != n:\n",
    "                    path.append(n)\n",
    "                    n = parents[n]\n",
    "                path.append(start_node)\n",
    "                path.reverse()\n",
    "                print(\"Path found:\", path)\n",
    "                print(\"Total cost:\", g[stop_node])\n",
    "                return path\n",
    "\n",
    "            for (m, weight) in self.get_neighbors(n):\n",
    "                new_cost = g[n] + weight\n",
    "                if m not in g or new_cost < g[m]:\n",
    "                    g[m] = new_cost\n",
    "                    parents[m] = n\n",
    "                    if m not in closed_list:\n",
    "                        open_list.add(m)\n",
    "\n",
    "            open_list.remove(n)\n",
    "            closed_list.add(n)\n",
    "\n",
    "        print(\"No path found!\")\n",
    "        return None\n",
    "\n",
    "\n",
    "adjacency_list = {\n",
    "    'A': [('B', 1), ('C', 3), ('D', 7)],\n",
    "    'B': [('D', 5)],\n",
    "    'C': [('D', 12)],\n",
    "    'D': []\n",
    "}\n",
    "\n",
    "graph1 = Graph(adjacency_list)\n",
    "graph1.a_star_algorithm('A', 'D')\n"
   ]
  }
 ],
 "metadata": {
  "kernelspec": {
   "display_name": "Python 3",
   "language": "python",
   "name": "python3"
  },
  "language_info": {
   "codemirror_mode": {
    "name": "ipython",
    "version": 3
   },
   "file_extension": ".py",
   "mimetype": "text/x-python",
   "name": "python",
   "nbconvert_exporter": "python",
   "pygments_lexer": "ipython3",
   "version": "3.13.0"
  }
 },
 "nbformat": 4,
 "nbformat_minor": 2
}
