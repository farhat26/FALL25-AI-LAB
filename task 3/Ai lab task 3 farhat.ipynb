{
 "cells": [
  {
   "cell_type": "code",
   "execution_count": 2,
   "id": "c6b54505",
   "metadata": {},
   "outputs": [
    {
     "name": "stdout",
     "output_type": "stream",
     "text": [
      "Start: Heater is OFF\n",
      "\n",
      "Step 1: Temp is 18\n",
      "Memory: Last state was OFF\n",
      "Action: No change, heater stays OFF\n",
      "\n",
      "Step 2: Temp is 17\n",
      "Memory: Last state was OFF\n",
      "Action: Switch heater to ON\n",
      "\n",
      "Step 3: Temp is 18\n",
      "Memory: Last state was ON\n",
      "Action: No change, heater stays ON\n",
      "\n",
      "Step 4: Temp is 18\n",
      "Memory: Last state was ON\n",
      "Action: No change, heater stays ON\n",
      "\n",
      "Step 5: Temp is 20\n",
      "Memory: Last state was ON\n",
      "Action: No change, heater stays ON\n"
     ]
    }
   ],
   "source": [
    "import random  # Only for random temp changes\n",
    "\n",
    "last_heater_state = 'OFF'  # Start off\n",
    "\n",
    "def agent_decide(current_temp):\n",
    "    global last_heater_state  # Use the memory\n",
    "    \n",
    "    \n",
    "    if current_temp < 18:\n",
    "        want = 'ON'  \n",
    "    elif current_temp > 22:\n",
    "        want = 'OFF'  \n",
    "    else:\n",
    "        want = last_heater_state \n",
    "    \n",
    "    # Cs\n",
    "    if want == last_heater_state:\n",
    "        action = f\"No change, heater stays {last_heater_state}\"\n",
    "    else:\n",
    "        action = f\"Switch heater to {want}\"\n",
    "    \n",
    "   \n",
    "    last_heater_state = want\n",
    "    \n",
    "    return action\n",
    "\n",
    "\n",
    "temp = 20 \n",
    "print(\"Start: Heater is\", last_heater_state)\n",
    "\n",
    "for step in range(1, 6):\n",
    "    \n",
    "    if last_heater_state == 'ON':\n",
    "        temp += random.randint(1, 2)  # Warms\n",
    "    else:\n",
    "        temp -= random.randint(1, 2)  # Cools\n",
    "    \n",
    "    \n",
    "    temp += random.randint(-1, 1)\n",
    "    temp = max(10, min(30, temp))  # Keep sane\n",
    "    \n",
    "    print(f\"\\nStep {step}: Temp is {temp}\")\n",
    "    print(\"Memory: Last state was\", last_heater_state)\n",
    "    print(\"Action:\", agent_decide(temp))"
   ]
  }
 ],
 "metadata": {
  "kernelspec": {
   "display_name": "Python 3",
   "language": "python",
   "name": "python3"
  },
  "language_info": {
   "codemirror_mode": {
    "name": "ipython",
    "version": 3
   },
   "file_extension": ".py",
   "mimetype": "text/x-python",
   "name": "python",
   "nbconvert_exporter": "python",
   "pygments_lexer": "ipython3",
   "version": "3.11.9"
  }
 },
 "nbformat": 4,
 "nbformat_minor": 5
}
